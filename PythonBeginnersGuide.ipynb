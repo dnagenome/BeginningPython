{
  "nbformat": 4,
  "nbformat_minor": 0,
  "metadata": {
    "colab": {
      "provenance": [],
      "authorship_tag": "ABX9TyO+kX5gVjs529v2wZp5MqvC",
      "include_colab_link": true
    },
    "kernelspec": {
      "name": "python3",
      "display_name": "Python 3"
    },
    "language_info": {
      "name": "python"
    }
  },
  "cells": [
    {
      "cell_type": "markdown",
      "metadata": {
        "id": "view-in-github",
        "colab_type": "text"
      },
      "source": [
        "<a href=\"https://colab.research.google.com/github/dnagenome/BeginningPython/blob/main/PythonBeginnersGuide.ipynb\" target=\"_parent\"><img src=\"https://colab.research.google.com/assets/colab-badge.svg\" alt=\"Open In Colab\"/></a>"
      ]
    },
    {
      "cell_type": "code",
      "execution_count": null,
      "metadata": {
        "id": "tT5vH1dvBVWP"
      },
      "outputs": [],
      "source": []
    },
    {
      "cell_type": "code",
      "source": [
        "print(\"Hello\")\n"
      ],
      "metadata": {
        "colab": {
          "base_uri": "https://localhost:8080/"
        },
        "id": "yxutWFtWBijt",
        "outputId": "daaa68d4-b685-4d6f-da2b-3d6534432d51"
      },
      "execution_count": null,
      "outputs": [
        {
          "output_type": "stream",
          "name": "stdout",
          "text": [
            "Hello\n"
          ]
        }
      ]
    },
    {
      "cell_type": "markdown",
      "source": [
        "Testing the text feature of the Google Colab Interface."
      ],
      "metadata": {
        "id": "N6nhCerpBw4w"
      }
    },
    {
      "cell_type": "code",
      "source": [
        "# 3\n",
        "# Bool\n",
        "is_game_over = False\n",
        "print(is_game_over)\n",
        "is_game_over = True\n",
        "print(is_game_over)\n",
        "is_game_over = 5 > 6\n",
        "print(is_game_over)"
      ],
      "metadata": {
        "id": "UBsAhu7WCCBJ"
      },
      "execution_count": null,
      "outputs": []
    },
    {
      "cell_type": "code",
      "source": [
        "# int\n",
        "num_lives = 5\n",
        "print(num_lives)\n",
        "# float\n",
        "percent_health = 0.5\n",
        "print(percent_health)"
      ],
      "metadata": {
        "id": "TPP6SnT6ETlz"
      },
      "execution_count": null,
      "outputs": []
    },
    {
      "cell_type": "code",
      "source": [
        "# str\n",
        "player_name = \"Nimish\"\n",
        "print(player_name)\n",
        "player_name = 'Mammoth'\n",
        "print(player_name)"
      ],
      "metadata": {
        "id": "a2vgtmDoEVxD"
      },
      "execution_count": null,
      "outputs": []
    },
    {
      "cell_type": "code",
      "source": [
        "# type\n",
        "print(type(is_game_over))\n",
        "print(type(num_lives))\n",
        "print(type(percent_health))\n",
        "print(type(player_name))\n",
        "\n",
        "num_lives = \"5\"\n",
        "print(type(num_lives))"
      ],
      "metadata": {
        "id": "aCkqOZloEYO4"
      },
      "execution_count": null,
      "outputs": []
    },
    {
      "cell_type": "code",
      "source": [
        "# 4\n",
        "# Converting to str\n",
        "num_lives = 5\n",
        "# num_lives = \"5\"\n",
        "str_num_lives = str(num_lives)\n",
        "print(type(num_lives))\n",
        "print(type(str_num_lives))"
      ],
      "metadata": {
        "id": "vn7dgHe-EaU3"
      },
      "execution_count": null,
      "outputs": []
    },
    {
      "cell_type": "code",
      "source": [
        "# Converting to bool\n",
        "print(bool(0))\n",
        "print(bool(0.1))\n",
        "print(bool(\"afsdafsd\"))\n",
        "print(bool(\"False\"))"
      ],
      "metadata": {
        "id": "CvZ7dqioEcSu"
      },
      "execution_count": null,
      "outputs": []
    },
    {
      "cell_type": "code",
      "source": [
        "# Converting to int\n",
        "# print(int(\"fasdfsd\"))\n",
        "print(int(\"1\"))\n",
        "print(int(0.5))\n",
        "print(int(False))\n",
        "print(int(True))"
      ],
      "metadata": {
        "id": "bFOp505QEfaW"
      },
      "execution_count": null,
      "outputs": []
    },
    {
      "cell_type": "code",
      "source": [
        "# Converting to float\n",
        "print(float(\"1\"))\n",
        "print(float(5))\n",
        "print(float(False))\n",
        "print(float(True))"
      ],
      "metadata": {
        "id": "1ewtVP_kEgsw"
      },
      "execution_count": null,
      "outputs": []
    },
    {
      "cell_type": "code",
      "source": [
        "# 6\n",
        "# Assignment operators\n",
        "health = 50\n",
        "# Arithmetic operators\n",
        "new_health = health + 20\n",
        "print(health)\n",
        "health = health + 20\n",
        "print(health)\n",
        "\n",
        "xPos = 5\n",
        "print(xPos % 2)\n",
        "print(xPos // 2)\n",
        "print(xPos ** 2)\n",
        "print(xPos)\n",
        "\n",
        "first_name = \"Nimish\"\n",
        "last_name = \"Narang\"\n",
        "print(first_name + \" \" + last_name)"
      ],
      "metadata": {
        "id": "9ja5QHDSEing"
      },
      "execution_count": null,
      "outputs": []
    },
    {
      "cell_type": "code",
      "source": [
        "# Assignment-arithmetic operators\n",
        "health = 50\n",
        "health += 20\n",
        "health -= 50\n",
        "print(health)\n",
        "\n",
        "name = \"Nimish\"\n",
        "name += \" Narang\"\n",
        "print(name)"
      ],
      "metadata": {
        "id": "T7QWehPvEk36"
      },
      "execution_count": null,
      "outputs": []
    },
    {
      "cell_type": "code",
      "source": [
        "# 7\n",
        "# Conditional operators: > >= < <= == !=\n",
        "result = 5 > 2\n",
        "print(result)\n",
        "print(type(result))\n",
        "print(5 == 2)\n",
        "print(5 != health)\n",
        "print(5.0 == 5)"
      ],
      "metadata": {
        "id": "AN5tuutTEoTm"
      },
      "execution_count": null,
      "outputs": []
    },
    {
      "cell_type": "code",
      "source": [
        "# More conditional operators\n",
        "a = \"a\"\n",
        "a_ = \"A\"\n",
        "print(True == False)\n",
        "print(first_name == last_name)\n",
        "print(a == a_)\n",
        "b = \"1\"\n",
        "print(a > b)\n",
        "print(1 > True)\n",
        "print(b == False)\n",
        "# print(b > 5)"
      ],
      "metadata": {
        "id": "x68rLy1uEpR8"
      },
      "execution_count": null,
      "outputs": []
    },
    {
      "cell_type": "code",
      "source": [
        "# Logical Operators\n",
        "# not and or\n",
        "is_game_over = False\n",
        "is_game_over = not is_game_over\n",
        "print(is_game_over)\n",
        "health = 0\n",
        "lives = 1\n",
        "print(health <= 0 and lives <= 0)\n",
        "print(health <= 0 or lives <= 0)"
      ],
      "metadata": {
        "id": "nAxu8fJfEsTo"
      },
      "execution_count": null,
      "outputs": []
    },
    {
      "cell_type": "code",
      "source": [
        "# 9\n",
        "# Lists\n",
        "inventory = ['Sword', 'Bread', 'Boots']\n",
        "sword = inventory[0]\n",
        "print(sword)\n",
        "inventory[1] = 'Apples'\n",
        "print(inventory)"
      ],
      "metadata": {
        "id": "Smvx1HPWEtoV"
      },
      "execution_count": null,
      "outputs": []
    },
    {
      "cell_type": "code",
      "source": [
        "# List functions\n",
        "inventory = ['Sword', 'Bread', 'Boots']\n",
        "print(len(inventory))\n",
        "print(max(inventory))\n",
        "print(min(inventory))\n",
        "\n",
        "inventory.append('Hat')\n",
        "print(inventory)\n",
        "inventory.insert(0, 'Knife')\n",
        "print(inventory)\n",
        "inventory.pop()\n",
        "print(inventory)\n",
        "inventory.remove('Sword')\n",
        "print(inventory)\n",
        "inventory.clear()"
      ],
      "metadata": {
        "id": "UE2PZxuBEvm5"
      },
      "execution_count": null,
      "outputs": []
    },
    {
      "cell_type": "code",
      "source": [
        "# 10 2D Lists\n",
        "universe = [[1, 2, 3],\n",
        "            [1, 2, 3, 4],\n",
        "            [1, 2],\n",
        "            [1, 2, 3]]\n",
        "ninth_world = universe[2][1]\n",
        "ninth_world = 5\n",
        "universe.append([1, 2, 3, 4, 5])\n",
        "universe[1].pop()\n",
        "print(universe)"
      ],
      "metadata": {
        "id": "8x2cuBnpEx37"
      },
      "execution_count": null,
      "outputs": []
    },
    {
      "cell_type": "code",
      "source": [
        "# 11 Tuples\n",
        "item = (\"Health Kit\", 4)\n",
        "name = item[0]\n",
        "print(name)\n",
        "# item[1] = 10\n",
        "item = (\"Knife\", 1)\n",
        "print(item)\n",
        "\n",
        "print(item.count('Knife'))\n",
        "print(item.index(1))\n",
        "\n",
        "item = (1, 2, 3)\n",
        "\n",
        "print(len(item))\n",
        "print(max(item))\n",
        "print(min(item))"
      ],
      "metadata": {
        "id": "IMjU95SsEz5-"
      },
      "execution_count": null,
      "outputs": []
    },
    {
      "cell_type": "code",
      "source": [
        "# 12 Dictionaries\n",
        "inventory = {'Knife':1, 'Health Kit': 3, 'Wood': 5}\n",
        "print(inventory['Health Kit'])\n",
        "inventory['Knife'] = 2\n",
        "print(inventory)\n",
        "inventory['Gold'] = 50\n",
        "print(inventory)"
      ],
      "metadata": {
        "id": "GQDJUaPaE2BY"
      },
      "execution_count": null,
      "outputs": []
    },
    {
      "cell_type": "code",
      "source": [
        "# Dictionary Functions\n",
        "inventory = {'Knife':1, 'Health Kit': 3, 'Wood': 5}\n",
        "# print(inventory['Gold'])\n",
        "print(inventory.get('Gold'))\n",
        "print(inventory.keys())\n",
        "print(inventory.values())\n",
        "\n",
        "print(inventory.pop('Knife'))\n",
        "print(inventory)\n",
        "# inventory.clear()\n",
        "\n",
        "inventory['Apple'] = 10\n",
        "print(len(inventory))\n",
        "print(min(inventory))\n",
        "print(max(inventory))"
      ],
      "metadata": {
        "id": "-mvu6jSbE3wh"
      },
      "execution_count": null,
      "outputs": []
    },
    {
      "cell_type": "code",
      "source": [
        "# 13 Ranges\n",
        "first_ten = range(10)\n",
        "print(first_ten[0])\n",
        "print(first_ten[9])\n",
        "\n",
        "first_ten = range(1,11)\n",
        "print(first_ten[0])\n",
        "print(first_ten[9])\n",
        "\n",
        "print(list(range(1,11,2)))\n",
        "\n",
        "reversed_ten = reversed(first_ten)\n",
        "reversed_ten = list(reversed_ten)\n",
        "print(reversed_ten)\n",
        "\n",
        "print(15 not in first_ten)"
      ],
      "metadata": {
        "id": "bLubtzIbE7an"
      },
      "execution_count": null,
      "outputs": []
    },
    {
      "cell_type": "code",
      "source": [
        "# 15 if, elif, else statements\n",
        "key_press = 'adsf'\n",
        "if key_press == 'r':\n",
        "  print('Move right')\n",
        "elif key_press == 'l':\n",
        "  print('Move left')\n",
        "else:\n",
        "  print('Invalid key')\n",
        "\n",
        "command = 'Move right' if key_press == 'r' else 'Invalid key'"
      ],
      "metadata": {
        "id": "iH7NDlU2E8Bq"
      },
      "execution_count": null,
      "outputs": []
    },
    {
      "cell_type": "code",
      "source": [
        "# 16 if statement variants\n",
        "num_lives = 3\n",
        "num_health_kits = 3\n",
        "health = 0\n",
        "if health <= 0 and num_health_kits <= 0:\n",
        "  num_lives -= 1\n",
        "  print('You lose a life!')\n",
        "  if num_lives <= 0:\n",
        "    print('You died!')\n",
        "elif health < 10:\n",
        "  print('Warning, less than 10% health!')\n",
        "elif health < 50:\n",
        "  print('Warning, less than 50% health!')\n"
      ],
      "metadata": {
        "id": "1SpJDbJVE92b"
      },
      "execution_count": null,
      "outputs": []
    },
    {
      "cell_type": "code",
      "source": [
        "# 18 while loops\n",
        "x_pos = 0\n",
        "y_pos = 1\n",
        "end_pos = 5\n",
        "enemy_pos = 3\n",
        "while x_pos < end_pos:\n",
        "  x_pos += 1\n",
        "  print(x_pos)\n",
        "  if y_pos > 0:\n",
        "    continue\n",
        "  if x_pos == enemy_pos:\n",
        "    print(\"You collided with the enemy\")\n",
        "    break\n",
        "print(\"Game over\")"
      ],
      "metadata": {
        "id": "fGlpFZSNE_3Y"
      },
      "execution_count": null,
      "outputs": []
    },
    {
      "cell_type": "code",
      "source": [
        "# 19 for loops\n",
        "# our_range = range(1,6)\n",
        "# for i in our_range:\n",
        "#   print(i)\n",
        "\n",
        "inventory = ['Boots', 'Arrows', 'Bow', 'Sword']\n",
        "# for item in inventory:\n",
        "#   print(item)\n",
        "\n",
        "# for i in range(4):\n",
        "#   print(inventory[i])\n",
        "#   if i == 1:\n",
        "#     break\n",
        "\n",
        "i = 0\n",
        "while i < len(inventory):\n",
        "  print(inventory[i])\n",
        "  i += 1"
      ],
      "metadata": {
        "id": "do06-8HRFDsN"
      },
      "execution_count": null,
      "outputs": []
    },
    {
      "cell_type": "code",
      "source": [
        "# 20 functions\n",
        "x_pos = 0\n",
        "\n",
        "def move():\n",
        "  global x_pos\n",
        "  x_pos += 1\n",
        "\n",
        "move()\n",
        "move()\n",
        "move()\n",
        "move()\n",
        "print(x_pos)"
      ],
      "metadata": {
        "id": "icG9XmlTFHZL"
      },
      "execution_count": null,
      "outputs": []
    },
    {
      "cell_type": "code",
      "source": [
        "# 21 parameters and return values\n",
        "x_pos = 0\n",
        "\n",
        "def move(by_amount=1):\n",
        "  global x_pos\n",
        "  x_pos += by_amount\n",
        "\n",
        "move(5)\n",
        "print(x_pos)"
      ],
      "metadata": {
        "id": "a2ns-ip-FLTZ"
      },
      "execution_count": null,
      "outputs": []
    },
    {
      "cell_type": "code",
      "source": [
        "start_pos = 0\n",
        "end_pos = 10\n",
        "x_pos = 0\n",
        "\n",
        "def move(x_pos, by_amount=1):\n",
        "  global start_pos, end_pos\n",
        "  x_pos += by_amount\n",
        "  if x_pos < start_pos:\n",
        "    return start_pos\n",
        "  elif x_pos > end_pos:\n",
        "    return end_pos\n",
        "  return x_pos\n",
        "\n",
        "x_pos = move(x_pos, -15)\n",
        "print(x_pos)"
      ],
      "metadata": {
        "id": "QG9JEDCIFTIz"
      },
      "execution_count": null,
      "outputs": []
    },
    {
      "cell_type": "code",
      "source": [
        "# 24 classes\n",
        "class GameCharacter:\n",
        "\n",
        "  speed = 1.0\n",
        "\n",
        "  def __init__(self, name, x_pos, health):\n",
        "    self.name = name\n",
        "    self.x_pos = x_pos\n",
        "    self.health = health\n",
        "\n",
        "  def move(self, by_amount):\n",
        "    self.x_pos += by_amount\n",
        "\n",
        "  def take_damage(self, amount):\n",
        "    self.health -= amount\n",
        "    if self.health < 0:\n",
        "      self.health = 0\n",
        "\n",
        "  def check_is_dead(self):\n",
        "    return self.health <= 0\n",
        "\n",
        "  def change_speed(to_speed):\n",
        "    GameCharacter.speed = to_speed\n"
      ],
      "metadata": {
        "id": "tVqSf3qfFav6"
      },
      "execution_count": null,
      "outputs": []
    },
    {
      "cell_type": "code",
      "source": [
        "# 25 objects\n",
        "game_character = GameCharacter('Nimish', 5, 100)\n",
        "other_character = GameCharacter('Other', 0, 50)\n",
        "# print(type(game_character))\n",
        "# print(game_character.name)\n",
        "# print(other_character.name)\n",
        "\n",
        "# game_character.name = \"asfsdafs\"\n",
        "# print(game_character.name)\n",
        "\n",
        "game_character.move(-2)\n",
        "print(game_character.x_pos)\n",
        "\n",
        "game_character.take_damage(200)\n",
        "print(game_character.health)\n",
        "print(game_character.check_is_dead())"
      ],
      "metadata": {
        "id": "W2CG8QNHFhTF"
      },
      "execution_count": null,
      "outputs": []
    },
    {
      "cell_type": "code",
      "source": [
        "# 26 inheritance\n",
        "class PlayerCharacter(GameCharacter):\n",
        "\n",
        "  def __init__(self, name, x_pos, health, num_lives):\n",
        "    super().__init__(name, x_pos, health)\n",
        "    self.max_health = health\n",
        "    self.num_lives = num_lives\n",
        "\n",
        "  def take_damage(self, amount):\n",
        "    self.health -= amount\n",
        "    if self.health <= 0:\n",
        "      self.num_lives -= 1\n",
        "      self.health = self.max_health\n",
        "\n",
        "  def check_is_dead(self):\n",
        "    return self.health <= 0 and self.num_lives <= 0"
      ],
      "metadata": {
        "id": "AhaVs506FiyH"
      },
      "execution_count": null,
      "outputs": []
    },
    {
      "cell_type": "code",
      "source": [
        "pc = PlayerCharacter('Nimish', 0, 100, 3)\n",
        "gc = GameCharacter('Wolf', 0, 100)\n",
        "\n",
        "print(pc.max_health)\n",
        "# print(gc.max_health)\n",
        "\n",
        "pc.move(2)\n",
        "print(pc.x_pos)\n",
        "gc.move(2)\n",
        "print(gc.x_pos)\n",
        "\n",
        "pc.take_damage(150)\n",
        "gc.take_damage(150)\n",
        "print(pc.health)\n",
        "print(gc.health)\n",
        "\n",
        "print(pc.check_is_dead())\n",
        "print(gc.check_is_dead())"
      ],
      "metadata": {
        "id": "_bEGj2y0Fkj0"
      },
      "execution_count": null,
      "outputs": []
    },
    {
      "cell_type": "code",
      "source": [
        "gc_1 = GameCharacter('Wolf', 0, 100)\n",
        "gc_2 = GameCharacter('Lion', 2, 150)\n",
        "\n",
        "# print(gc_1.speed)\n",
        "# print(gc_2.speed)\n",
        "# print(GameCharacter.speed)\n",
        "\n",
        "# GameCharacter.speed = 2.0\n",
        "GameCharacter.change_speed(4.0)\n",
        "print(gc_1.speed)\n",
        "# gc_2.speed = 10\n",
        "print(gc_2.speed)"
      ],
      "metadata": {
        "id": "ZxBxpvj4FmHL"
      },
      "execution_count": null,
      "outputs": []
    },
    {
      "cell_type": "code",
      "source": [
        "# My attempt at checkerboard style game\n",
        "\n",
        "import random\n",
        "\n",
        "class GameCharacter:\n",
        "\n",
        "    # attributes here\n",
        "    name = ''\n",
        "    health = 100\n",
        "    xposition = 0\n",
        "    yposition = 0\n",
        "\n",
        "    # initializer\n",
        "    def __init__(self, name, health, xposition, yposition):\n",
        "        self.name = name\n",
        "        self.health = health\n",
        "        self.xposition = xposition\n",
        "        self.yposition = yposition\n",
        "\n",
        "    # behaviours\n",
        "    def move_by_x(self, amount):\n",
        "        self.xposition += amount\n",
        "\n",
        "    def move_by_y(self, amount):\n",
        "        self.yposition += amount\n",
        "\n",
        "    def heal_self(self, by_amount):\n",
        "        self.health += by_amount\n",
        "        if self.health > 100:\n",
        "            self.health = 100\n",
        "\n",
        "    def damage(self, by_amount):\n",
        "      global dead\n",
        "      self.health -= by_amount\n",
        "      if self.health <= 0:\n",
        "        dead = True\n",
        "\n",
        "    def deal_odd_damage(self, v1, v2):\n",
        "      if v1 % 2 != 0 and v2 % 2 != 0:\n",
        "        self.damage(5)\n",
        "\n",
        "def Movement(val, position):\n",
        "  if val + position > 12:\n",
        "    val = 12 - position\n",
        "  elif val + position < 0:\n",
        "    val = 0\n",
        "  return val\n",
        "\n",
        "def CharCollision(i):\n",
        "  a = 0\n",
        "  global brawls, dead\n",
        "  while a < i and not dead:\n",
        "    if Character[a].xposition == Character[i].xposition and Character[a].yposition == Character[i].yposition:\n",
        "      Character[i].damage(10)\n",
        "      brawls += 1\n",
        "    elif Character[i].xposition == 6 and Character[i].yposition == 6:\n",
        "      Character[i].damage(10)\n",
        "      brawls += 1\n",
        "    if dead:\n",
        "      break\n",
        "    a += 1\n",
        "\n",
        "characters = ['Dwayne','Dnagenome','Gnome','Ribo','Mito','Chon']\n",
        "number = 0\n",
        "total = len(characters)\n",
        "#print(str(total))\n",
        "dead = False\n",
        "exit = False\n",
        "numdead = 0\n",
        "Character = []\n",
        "moves = 0\n",
        "brawls = 0\n",
        "\n",
        "for number in range(0,total):\n",
        "    Character.append(GameCharacter(characters[number], 100, 0, 0))\n",
        "    # print(Character[number].name)\n",
        "    # print(Character[number].health)\n",
        "    # print(Character[number].xposition)\n",
        "    # print(Character[number].yposition)\n",
        "    number += 1\n",
        "\n",
        "while not exit:\n",
        "  for i in range(len(Character)):\n",
        "    if Character[i].health <= 0:\n",
        "      continue\n",
        "    xpos = Movement(random.randint(-2,2),Character[i].xposition)\n",
        "    ypos = Movement(random.randint(-2,2),Character[i].yposition)\n",
        "\n",
        "    Character[i].move_by_x(xpos)\n",
        "    Character[i].move_by_y(ypos)\n",
        "\n",
        "    Character[i].deal_odd_damage(xpos,ypos)\n",
        "\n",
        "    CharCollision(i)\n",
        "\n",
        "    if Character[i].health <= 0:\n",
        "      dead = True\n",
        "      numdead += 1\n",
        "\n",
        "    if numdead == total - 1 or (Character[i].xposition == 12 and Character[i].yposition == 12):\n",
        "      exit = True\n",
        "      break\n",
        "    i += 1\n",
        "  moves += 1\n",
        "\n",
        "for i in range(len(Character)):\n",
        "  if (numdead == total - 1 and Character[i].health > 0) or (Character[i].xposition == 12 and Character[i].yposition == 12):\n",
        "    print('After ' + str(moves) + ' total moves, and ' + str(brawls) + ' player brawls!')\n",
        "    print('The winner is:')\n",
        "    print(Character[i].name)\n",
        "    print('with a whopping ' + str(Character[i].health) + ' health remaining!')\n",
        "    print('They ended at ' + str(Character[i].xposition) + ', ' + str(Character[i].yposition) + ' on the board.')\n",
        "for i in range(len(Character)):\n",
        "  print(Character[i].name)\n",
        "  print(Character[i].health)\n",
        "  print(Character[i].xposition)\n",
        "  print(Character[i].yposition)"
      ],
      "metadata": {
        "colab": {
          "base_uri": "https://localhost:8080/"
        },
        "id": "ZeSt-sSAFvsy",
        "outputId": "2bb9884f-f505-423d-a56b-e24c72c84f4d"
      },
      "execution_count": null,
      "outputs": [
        {
          "output_type": "stream",
          "name": "stdout",
          "text": [
            "After 65 total moves, and 18 player brawls!\n",
            "The winner is:\n",
            "Dnagenome\n",
            "with a whopping 5 health remaining!\n",
            "They ended at 12, 12 on the board.\n",
            "Dwayne\n",
            "45\n",
            "2\n",
            "8\n",
            "Dnagenome\n",
            "5\n",
            "12\n",
            "12\n",
            "Gnome\n",
            "0\n",
            "1\n",
            "12\n",
            "Ribo\n",
            "30\n",
            "7\n",
            "1\n",
            "Mito\n",
            "20\n",
            "5\n",
            "4\n",
            "Chon\n",
            "20\n",
            "9\n",
            "7\n"
          ]
        }
      ]
    }
  ]
}